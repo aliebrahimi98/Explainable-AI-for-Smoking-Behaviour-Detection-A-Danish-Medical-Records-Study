{
 "cells": [
  {
   "cell_type": "markdown",
   "id": "0d91eafb",
   "metadata": {},
   "source": [
    "# 🧪 Unified Runner for All Labels Classification\n",
    "This notebook uses `pop1_merged.csv` for training and `pop2_merged.csv` for testing."
   ]
  },
  {
   "cell_type": "code",
   "execution_count": 1,
   "id": "75bf5bba",
   "metadata": {},
   "outputs": [
    {
     "name": "stdout",
     "output_type": "stream",
     "text": [
      "🔧 Task: all_labels, Model: lstm\n"
     ]
    }
   ],
   "source": [
    "from src import config\n",
    "TASK = config.TASK\n",
    "MODEL_TYPE = config.MODEL_TYPE\n",
    "print(f'🔧 Task: {TASK}, Model: {MODEL_TYPE}')"
   ]
  },
  {
   "cell_type": "markdown",
   "id": "66217e91",
   "metadata": {},
   "source": [
    "## 📥 Load and Preprocess Data"
   ]
  },
  {
   "cell_type": "code",
   "execution_count": 15,
   "id": "0a8c5926",
   "metadata": {},
   "outputs": [],
   "source": [
    "from src.data_loader import load_data\n",
    "X_train, X_test, y_train, y_test = load_data(task=TASK)\n",
    "X_train.shape, X_test.shape"
   ]
  },
  {
   "cell_type": "markdown",
   "id": "8d23955c",
   "metadata": {},
   "source": [
    "## 🧠 Train the Model on `pop1`"
   ]
  },
  {
   "cell_type": "code",
   "execution_count": 14,
   "id": "817a91d9",
   "metadata": {},
   "outputs": [],
   "source": [
    "from src.train import train_model\n",
    "model, history = train_model(X_train, y_train, model_type=MODEL_TYPE, task=TASK)"
   ]
  },
  {
   "cell_type": "markdown",
   "id": "2b8017fc",
   "metadata": {},
   "source": [
    "## 📈 Evaluate the Model on `pop2`"
   ]
  },
  {
   "cell_type": "code",
   "execution_count": 11,
   "id": "81059900",
   "metadata": {},
   "outputs": [],
   "source": [
    "from src.train import evaluate_model\n",
    "evaluate_model(model, X_test, y_test, model_type=MODEL_TYPE)"
   ]
  },
  {
   "cell_type": "markdown",
   "id": "6ddff36f",
   "metadata": {},
   "source": [
    "## 🔥 Confusion Matrix Heatmap"
   ]
  },
  {
   "cell_type": "code",
   "execution_count": 10,
   "id": "aa3b405d",
   "metadata": {},
   "outputs": [],
   "source": [
    "import numpy as np\n",
    "import matplotlib.pyplot as plt\n",
    "import seaborn as sns\n",
    "from sklearn.metrics import confusion_matrix\n",
    "\n",
    "y_pred = model.predict(X_test[..., np.newaxis] if MODEL_TYPE == \"lstm\" else X_test)\n",
    "y_pred_classes = np.argmax(y_pred, axis=1)\n",
    "\n",
    "cm = confusion_matrix(y_test, y_pred_classes)\n",
    "plt.figure(figsize=(10, 6))\n",
    "sns.heatmap(cm, annot=True, fmt='d', cmap='Blues')\n",
    "plt.title(\"Confusion Matrix\")\n",
    "plt.xlabel(\"Predicted\")\n",
    "plt.ylabel(\"True\")\n",
    "plt.show()\n"
   ]
  },
  {
   "cell_type": "markdown",
   "id": "0ebab7b5",
   "metadata": {},
   "source": [
    "## 🪄 Explain with LIME"
   ]
  },
  {
   "cell_type": "code",
   "execution_count": 9,
   "id": "6d72eaf4",
   "metadata": {},
   "outputs": [],
   "source": [
    "from src.explain import lime_explanation\n",
    "lime_explanation(model, X_test, task=TASK)"
   ]
  },
  {
   "cell_type": "code",
   "execution_count": null,
   "id": "ecb57e6e-0ee9-45d4-be83-2b65151b12c5",
   "metadata": {},
   "outputs": [],
   "source": []
  }
 ],
 "metadata": {
  "kernelspec": {
   "display_name": "Python 3 (ipykernel)",
   "language": "python",
   "name": "python3"
  },
  "language_info": {
   "codemirror_mode": {
    "name": "ipython",
    "version": 3
   },
   "file_extension": ".py",
   "mimetype": "text/x-python",
   "name": "python",
   "nbconvert_exporter": "python",
   "pygments_lexer": "ipython3",
   "version": "3.12.3"
  }
 },
 "nbformat": 4,
 "nbformat_minor": 5
}
